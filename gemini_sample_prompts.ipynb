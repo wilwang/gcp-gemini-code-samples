{
 "cells": [
  {
   "cell_type": "code",
   "execution_count": null,
   "id": "8859cf8e-67c0-4686-9ece-f55cc2b9d42b",
   "metadata": {
    "tags": []
   },
   "outputs": [],
   "source": [
    "pip install --upgrade google-cloud-aiplatform"
   ]
  },
  {
   "cell_type": "markdown",
   "id": "68c2554b-c808-49d7-91a1-efb1228ee28d",
   "metadata": {},
   "source": [
    "# Import packages and instantiate models"
   ]
  },
  {
   "cell_type": "code",
   "execution_count": 5,
   "id": "e92a207d-92f9-4bb0-9d97-b33138cdfdc2",
   "metadata": {
    "tags": []
   },
   "outputs": [],
   "source": [
    "from vertexai.preview.generative_models import GenerativeModel, GenerationConfig, Image, Part, FunctionDeclaration, Tool\n",
    "from vertexai.language_models import TextGenerationModel\n",
    "import vertexai.preview.generative_models as generative_models\n",
    "import http.client\n",
    "import typing\n",
    "import urllib.request\n",
    "\n",
    "text_bison_model = TextGenerationModel.from_pretrained(\"text-bison\")\n",
    "gemini_pro_model = GenerativeModel(\"gemini-1.0-pro\")\n",
    "gemini_pro_vision_model = GenerativeModel(\"gemini-1.0-pro-vision\")\n"
   ]
  },
  {
   "cell_type": "markdown",
   "id": "7c5f4487-6e6d-49b2-8ba1-8da4702ee2e7",
   "metadata": {},
   "source": [
    "# Example of making a prediction using Palm2 (text-bison)"
   ]
  },
  {
   "cell_type": "code",
   "execution_count": 6,
   "id": "ad3f0f67-3197-413c-bb91-a2d564e0750e",
   "metadata": {
    "tags": []
   },
   "outputs": [
    {
     "name": "stdout",
     "output_type": "stream",
     "text": [
      "MultiCandidateTextGenerationResponse(text=' Cars have four wheels for several reasons:\\n\\n1. **Stability:** Four wheels provide a wider base of support for the vehicle, which increases its stability. This is especially important when cornering or driving on uneven surfaces.\\n\\n2. **Traction:** Four wheels provide more traction than two wheels, which is essential for accelerating, braking, and climbing hills.\\n\\n3. **Load distribution:** Four wheels help to distribute the weight of the vehicle more evenly, which reduces stress on the suspension and tires.\\n\\n4. **Maneuverability:** Four wheels allow for greater maneuverability than two wheels, making it easier to turn and park.', _prediction_response=Prediction(predictions=[{'content': ' Cars have four wheels for several reasons:\\n\\n1. **Stability:** Four wheels provide a wider base of support for the vehicle, which increases its stability. This is especially important when cornering or driving on uneven surfaces.\\n\\n2. **Traction:** Four wheels provide more traction than two wheels, which is essential for accelerating, braking, and climbing hills.\\n\\n3. **Load distribution:** Four wheels help to distribute the weight of the vehicle more evenly, which reduces stress on the suspension and tires.\\n\\n4. **Maneuverability:** Four wheels allow for greater maneuverability than two wheels, making it easier to turn and park.', 'safetyAttributes': {'categories': ['Derogatory', 'Health', 'Insult', 'Sexual'], 'scores': [0.1, 0.1, 0.1, 0.1], 'safetyRatings': [{'probabilityScore': 0.1, 'category': 'Dangerous Content', 'severityScore': 0.0, 'severity': 'NEGLIGIBLE'}, {'probabilityScore': 0.1, 'severity': 'NEGLIGIBLE', 'category': 'Harassment', 'severityScore': 0.0}, {'category': 'Hate Speech', 'severityScore': 0.0, 'severity': 'NEGLIGIBLE', 'probabilityScore': 0.1}, {'category': 'Sexually Explicit', 'severityScore': 0.0, 'probabilityScore': 0.1, 'severity': 'NEGLIGIBLE'}], 'blocked': False}, 'citationMetadata': {'citations': []}}], deployed_model_id='', metadata={'tokenMetadata': {'outputTokenCount': {'totalTokens': 128.0, 'totalBillableCharacters': 535.0}, 'inputTokenCount': {'totalBillableCharacters': 24.0, 'totalTokens': 7.0}}}, model_version_id='', model_resource_name='', explanations=None), is_blocked=False, errors=(), safety_attributes={'Derogatory': 0.1, 'Health': 0.1, 'Insult': 0.1, 'Sexual': 0.1}, grounding_metadata=GroundingMetadata(citations=[], search_queries=[]), candidates=[ Cars have four wheels for several reasons:\n",
      "\n",
      "1. **Stability:** Four wheels provide a wider base of support for the vehicle, which increases its stability. This is especially important when cornering or driving on uneven surfaces.\n",
      "\n",
      "2. **Traction:** Four wheels provide more traction than two wheels, which is essential for accelerating, braking, and climbing hills.\n",
      "\n",
      "3. **Load distribution:** Four wheels help to distribute the weight of the vehicle more evenly, which reduces stress on the suspension and tires.\n",
      "\n",
      "4. **Maneuverability:** Four wheels allow for greater maneuverability than two wheels, making it easier to turn and park.])\n"
     ]
    }
   ],
   "source": [
    "model_response = text_bison_model.predict(\n",
    "    \"Why do cars have four wheels?\", \n",
    "    max_output_tokens=128, \n",
    "    temperature=0, \n",
    "    top_p=1, \n",
    "    top_k=5)\n",
    "\n",
    "print(model_response)\n"
   ]
  },
  {
   "cell_type": "markdown",
   "id": "0439a09b-94ef-49d5-bf77-ef6eca5825d4",
   "metadata": {
    "tags": []
   },
   "source": [
    "# Compare making a prediction using Gemini model\n",
    "Reference to Gemini API (https://cloud.google.com/vertex-ai/generative-ai/docs/model-reference/gemini)"
   ]
  },
  {
   "cell_type": "code",
   "execution_count": 7,
   "id": "5d931ee0-395c-4f43-b97f-1c77c0148251",
   "metadata": {},
   "outputs": [
    {
     "name": "stdout",
     "output_type": "stream",
     "text": [
      "candidates {\n",
      "  content {\n",
      "    role: \"model\"\n",
      "    parts {\n",
      "      text: \"Stability and Maneuverability: Four wheels provide a stable base for the vehicle, preventing it from tipping over even when cornering or driving on uneven surfaces. This enhanced stability allows for better control and handling of the car.\\n\\nWeight Distribution: The weight of the vehicle is distributed evenly across the four wheels, maximizing traction and reducing the load on any single wheel. This helps prevent punctures and ensures a smooth ride.\\n\\nCornering Ability: Four wheels allow the car to corner more effectively. The outer wheels can grip the road more firmly, generating more cornering force without the risk of losing traction. This improved cornering ability contributes to safe and\"\n",
      "    }\n",
      "  }\n",
      "  finish_reason: MAX_TOKENS\n",
      "  safety_ratings {\n",
      "    category: HARM_CATEGORY_HATE_SPEECH\n",
      "    probability: NEGLIGIBLE\n",
      "  }\n",
      "  safety_ratings {\n",
      "    category: HARM_CATEGORY_DANGEROUS_CONTENT\n",
      "    probability: NEGLIGIBLE\n",
      "  }\n",
      "  safety_ratings {\n",
      "    category: HARM_CATEGORY_HARASSMENT\n",
      "    probability: NEGLIGIBLE\n",
      "  }\n",
      "  safety_ratings {\n",
      "    category: HARM_CATEGORY_SEXUALLY_EXPLICIT\n",
      "    probability: NEGLIGIBLE\n",
      "  }\n",
      "}\n",
      "usage_metadata {\n",
      "  prompt_token_count: 7\n",
      "  candidates_token_count: 128\n",
      "  total_token_count: 135\n",
      "}\n",
      "\n"
     ]
    }
   ],
   "source": [
    "config = GenerationConfig(\n",
    "    # Only one candidate for now.\n",
    "    candidate_count=1,\n",
    "    max_output_tokens=128,\n",
    "    temperature=1.0,\n",
    "    top_p=1,\n",
    "    top_k=5)\n",
    "model_response = gemini_pro_model.generate_content(\n",
    "    \"Why do cars have four wheels?\", \n",
    "    generation_config=config)\n",
    "\n",
    "print(model_response)\n"
   ]
  },
  {
   "cell_type": "markdown",
   "id": "ba5eedd2-028c-4585-ad5c-aa28c655b4dc",
   "metadata": {
    "tags": []
   },
   "source": [
    "# Multi-line prompting between Palm2 and Gemini is different"
   ]
  },
  {
   "cell_type": "code",
   "execution_count": 8,
   "id": "7d342dbd-5db3-4a85-8ea3-025f87aa34f2",
   "metadata": {
    "tags": []
   },
   "outputs": [
    {
     "name": "stdout",
     "output_type": "stream",
     "text": [
      "MultiCandidateTextGenerationResponse(text=' To find the value of x multiplied by 2, we simply multiply x by 2. Since x is equal to 42, we have:\\n\\nx * 2 = 42 * 2 = 84\\n\\nTherefore, x multiplied by 2 is equal to 84.', _prediction_response=Prediction(predictions=[{'content': ' To find the value of x multiplied by 2, we simply multiply x by 2. Since x is equal to 42, we have:\\n\\nx * 2 = 42 * 2 = 84\\n\\nTherefore, x multiplied by 2 is equal to 84.', 'citationMetadata': {'citations': []}, 'safetyAttributes': {'categories': ['Derogatory', 'Finance', 'Health', 'Insult', 'Religion & Belief', 'Sexual'], 'blocked': False, 'safetyRatings': [{'category': 'Dangerous Content', 'severity': 'NEGLIGIBLE', 'severityScore': 0.0, 'probabilityScore': 0.2}, {'severityScore': 0.1, 'category': 'Harassment', 'severity': 'NEGLIGIBLE', 'probabilityScore': 0.1}, {'probabilityScore': 0.1, 'severityScore': 0.1, 'severity': 'NEGLIGIBLE', 'category': 'Hate Speech'}, {'severityScore': 0.1, 'probabilityScore': 0.1, 'severity': 'NEGLIGIBLE', 'category': 'Sexually Explicit'}], 'scores': [0.1, 0.1, 0.1, 0.1, 0.4, 0.1]}}], deployed_model_id='', metadata={'tokenMetadata': {'outputTokenCount': {'totalBillableCharacters': 124.0, 'totalTokens': 62.0}, 'inputTokenCount': {'totalBillableCharacters': 25.0, 'totalTokens': 13.0}}}, model_version_id='', model_resource_name='', explanations=None), is_blocked=False, errors=(), safety_attributes={'Derogatory': 0.1, 'Finance': 0.1, 'Health': 0.1, 'Insult': 0.1, 'Religion & Belief': 0.4, 'Sexual': 0.1}, grounding_metadata=GroundingMetadata(citations=[], search_queries=[]), candidates=[ To find the value of x multiplied by 2, we simply multiply x by 2. Since x is equal to 42, we have:\n",
      "\n",
      "x * 2 = 42 * 2 = 84\n",
      "\n",
      "Therefore, x multiplied by 2 is equal to 84.])\n"
     ]
    }
   ],
   "source": [
    "model_response = text_bison_model.predict(\"\"\"What is x multiplied by 2?\n",
    "x=42\"\"\")\n",
    "\n",
    "print(model_response)\n"
   ]
  },
  {
   "cell_type": "markdown",
   "id": "0db604f7-354e-4d54-a187-3b00c69b6feb",
   "metadata": {},
   "source": [
    "# With Gemini, it can be done by passing an array of strings"
   ]
  },
  {
   "cell_type": "code",
   "execution_count": 10,
   "id": "2af37876-ccd8-4f99-9309-ce916a71b822",
   "metadata": {
    "tags": []
   },
   "outputs": [
    {
     "name": "stdout",
     "output_type": "stream",
     "text": [
      "candidates {\n",
      "  content {\n",
      "    role: \"model\"\n",
      "    parts {\n",
      "      text: \"84\"\n",
      "    }\n",
      "  }\n",
      "  finish_reason: STOP\n",
      "  safety_ratings {\n",
      "    category: HARM_CATEGORY_HATE_SPEECH\n",
      "    probability: NEGLIGIBLE\n",
      "  }\n",
      "  safety_ratings {\n",
      "    category: HARM_CATEGORY_DANGEROUS_CONTENT\n",
      "    probability: NEGLIGIBLE\n",
      "  }\n",
      "  safety_ratings {\n",
      "    category: HARM_CATEGORY_HARASSMENT\n",
      "    probability: NEGLIGIBLE\n",
      "  }\n",
      "  safety_ratings {\n",
      "    category: HARM_CATEGORY_SEXUALLY_EXPLICIT\n",
      "    probability: NEGLIGIBLE\n",
      "  }\n",
      "}\n",
      "usage_metadata {\n",
      "  prompt_token_count: 13\n",
      "  candidates_token_count: 2\n",
      "  total_token_count: 15\n",
      "}\n",
      "\n"
     ]
    }
   ],
   "source": [
    "model_response = gemini_pro_model.generate_content([\"What is x multiplied by 2?\", \"x = 42\"])\n",
    "\n",
    "print(model_response)\n"
   ]
  },
  {
   "cell_type": "markdown",
   "id": "e929b937-0ffe-4d9e-a1a1-66d1cee7cee1",
   "metadata": {},
   "source": [
    "# Both Palm2 and Gemini support streaming but they are invoked differently"
   ]
  },
  {
   "cell_type": "code",
   "execution_count": 12,
   "id": "72358467-76fb-4667-ac00-9414f7dc431a",
   "metadata": {
    "tags": []
   },
   "outputs": [
    {
     "name": "stdout",
     "output_type": "stream",
     "text": [
      " Once upon a time, in a quaint little village, there lived a curious and imaginative girl named Alice.\n",
      " One sunny afternoon, while sitting on the riverbank, Alice noticed a peculiar white rabbit wearing a waistcoat and\n",
      " a pocket watch. Intrigued, she followed the rabbit down a rabbit hole and found herself in\n",
      " a strange and wonderful world known as Wonderland.\n",
      "\n",
      "In Wonderland, Alice encountered a series of extraordinary characters,\n",
      " each with their own unique quirks and personalities. She met the Cheshire Cat, who could vanish and reappear at\n",
      " will, leaving behind only a mischievous grin. She also encountered the Mad Hatter, who hosted never-ending tea\n",
      " parties,\n"
     ]
    }
   ],
   "source": [
    "prompt = \"Tell me the story of Alice in Wonderland\"\n",
    "model_response = text_bison_model.predict_streaming(prompt)\n",
    "\n",
    "for chunk in model_response:\n",
    "  print(chunk.text)\n"
   ]
  },
  {
   "cell_type": "code",
   "execution_count": 13,
   "id": "07e2667d-02a7-4699-82be-bf4fdb6f0026",
   "metadata": {
    "tags": []
   },
   "outputs": [
    {
     "name": "stdout",
     "output_type": "stream",
     "text": [
      "**Chapter 1: Down the Rabbit-Hole**\n",
      "Alice, a young girl, follows a white rabbit down a rabbit hole and falls into a strange and\n",
      " wonderful world.\n",
      "\n",
      "**Chapter 2: The Pool of Tears**\n",
      "Alice finds herself in a pool of her own tears, where she meets a talking mouse\n",
      ", a dodo bird, and other creatures.\n",
      "\n",
      "**Chapter 3: A Caucus-Race and a Long Tale**\n",
      "Alice attends a caucus-race, where the animals run in circles and get nowhere. She then meets a caterpillar who gives her a piece of advice: \"Who are you?\"\n",
      "\n",
      "**Chapter\n",
      " 4: Tweedledum and Tweedledee**\n",
      "Alice encounters the Tweedle twins, who argue about which day is the best and tell a nonsensical poem.\n",
      "\n",
      "**Chapter 5: The Lobster Quadrille**\n",
      "Alice attends a lobster quadrille, where she learns to dance with a lobster.\n",
      "\n",
      "**\n",
      "Chapter 6: Pig and Pepper**\n",
      "Alice enters the Duchess's kitchen, where she meets the Duchess, her cook, and her baby. The baby turns into a pig, and Alice escapes from the kitchen.\n",
      "\n",
      "**Chapter 7: A Mad Tea-Party**\n",
      "Alice joins the Mad Hatter, the March Hare, and the Dormouse for a tea party. The party is chaotic and nonsensical, and Alice becomes increasingly frustrated.\n",
      "\n",
      "**Chapter 8:\n",
      " The Queen's Croquet-Ground**\n",
      "Alice is invited to play croquet at the Queen of Hearts' croquet-ground. The game is rigged against her, and the Queen becomes angry and orders Alice to be beheaded.\n",
      "\n",
      "**Chapter 9: The Mock Turtle's Story**\n",
      "Alice meets the Mock Turtle, who tells her a long and winding story.\n",
      "\n",
      "**Chapter 10: The Lobster-Quadrille**\n",
      "Alice repeats the lobster quadrille\n",
      " from Chapter 5.\n",
      "\n",
      "**Chapter 11: Who Stole the Tarts?**\n",
      "The Queen of Hearts accuses Alice of stealing her tarts. Alice goes on trial, where the witnesses are all nonsense characters.\n",
      "\n",
      "**Chapter 12: Alice's Evidence**\n",
      "Alice testifies in her defense, but the jury finds her guilty.\n",
      "\n",
      "**Chapter 13: The King's Sentence**\n",
      "The King of Hearts sentences Alice to death, but Alice wakes up and finds herself back in the real world.\n"
     ]
    }
   ],
   "source": [
    "prompt = \"Tell me the story of Alice in Wonderland\"\n",
    "model_response = gemini_pro_model.generate_content(prompt, stream=True)\n",
    "\n",
    "for chunk in model_response:\n",
    "  print(chunk.text)\n"
   ]
  },
  {
   "cell_type": "markdown",
   "id": "3fb40069-a49e-4dc0-82c7-3b8da781d059",
   "metadata": {},
   "source": [
    "# It is possible to adjust safety settings in Gemini as well\n",
    "Reference the following links for categories and thresholds:\n",
    "    \n",
    "* https://cloud.google.com/python/docs/reference/aiplatform/latest/google.cloud.aiplatform_v1.types.HarmCategory\n",
    "* https://cloud.google.com/python/docs/reference/aiplatform/latest/google.cloud.aiplatform_v1.types.SafetySetting.HarmBlockThreshold"
   ]
  },
  {
   "cell_type": "code",
   "execution_count": 14,
   "id": "4d6bcefa-35b1-414e-bfc2-9c77f2bbeb5b",
   "metadata": {
    "tags": []
   },
   "outputs": [
    {
     "name": "stdout",
     "output_type": "stream",
     "text": [
      "candidates {\n",
      "  content {\n",
      "    role: \"model\"\n",
      "    parts {\n",
      "      text: \"**Chapter 1: Down the Rabbit-Hole**\\n\\nAlice, a young girl bored on a summer afternoon, follows a white rabbit down a curious rabbit-hole. She falls deep into a strange and nonsensical world called Wonderland.\\n\\n**Chapter 2: The Pool of Tears**\\n\\nAlice\\'s tears create a pool that floods Wonderland. She meets a quirky Mouse, a Dodo, and other creatures who offer unhelpful advice.\\n\\n**Chapter 3: A Caucus-Race and a Long Tale**\\n\\nAlice participates in a chaotic race with the animals, then listens to the Mouse tell a long and incomprehensible tale.\\n\\n**Chapter 4: The Rabbit Sends in a Little Bill**\\n\\nAlice enters the Rabbit\\'s house and confuses it for her own. She encounters a baby, a talking Caterpillar, and a bottle that makes her shrink and grow.\\n\\n**Chapter 5: Advice from a Caterpillar**\\n\\nThe Caterpillar advises Alice to eat a portion of mushroom to change her size. However, the mushroom has different effects on her, making her grow alternately large and small.\\n\\n**Chapter 6: Pig and Pepper**\\n\\nAlice meets a Duchess who treats her pig-baby like a child. Alice steals the baby and escapes through the Duchess\\'s kitchen, where she encounters a Cook who throws dishes at her.\\n\\n**Chapter 7: A Mad Tea-Party**\\n\\nAlice joins a tea party with the Mad Hatter, the March Hare, and the Dormouse. The party is nonsensical and time seems to stand still.\\n\\n**Chapter 8: The Queen\\'s Croquet-Ground**\\n\\nAlice plays croquet with the Queen of Hearts and her soldiers. The Queen\\'s rules are arbitrary and ever-changing, leading to chaos and frustration.\\n\\n**Chapter 9: The Mock Turtle\\'s Story**\\n\\nAlice meets the Mock Turtle and the Gryphon, who tell her a strange story about a turtle soup. The Mock Turtle represents education in Wonderland, but his lessons are distorted and nonsensical.\\n\\n**Chapter 10: The Lobster Quadrille**\\n\\nAlice attends a Lobster Quadrille, a dance that leads to a fight between the Lobster and the Gryphon.\\n\\n**Chapter 11: Who Stole the Tarts?**\\n\\nThe Queen of Hearts accuses Alice of stealing her tarts. Alice stands trial, where the rules are distorted and the witnesses contradict each other.\\n\\n**Chapter 12: Alice\\'s Evidence**\\n\\nAlice presents her evidence in the trial, but the Queen disregards it all. Alice realizes the absurdity of the Wonderland court and grows too large for the Queen to punish her.\\n\\n**Chapter 13: Finale**\\n\\nAlice awakes from her dream in her sister\\'s lap, wondering if her adventures in Wonderland were real or a figment of her imagination.\"\n",
      "    }\n",
      "  }\n",
      "  finish_reason: STOP\n",
      "  safety_ratings {\n",
      "    category: HARM_CATEGORY_HATE_SPEECH\n",
      "    probability: NEGLIGIBLE\n",
      "  }\n",
      "  safety_ratings {\n",
      "    category: HARM_CATEGORY_DANGEROUS_CONTENT\n",
      "    probability: NEGLIGIBLE\n",
      "  }\n",
      "  safety_ratings {\n",
      "    category: HARM_CATEGORY_HARASSMENT\n",
      "    probability: NEGLIGIBLE\n",
      "  }\n",
      "  safety_ratings {\n",
      "    category: HARM_CATEGORY_SEXUALLY_EXPLICIT\n",
      "    probability: NEGLIGIBLE\n",
      "  }\n",
      "}\n",
      "usage_metadata {\n",
      "  prompt_token_count: 8\n",
      "  candidates_token_count: 576\n",
      "  total_token_count: 584\n",
      "}\n",
      "\n"
     ]
    }
   ],
   "source": [
    "prompt = \"Tell me the story of Alice in Wonderland\"\n",
    "safety_settings={\n",
    "    generative_models.HarmCategory.HARM_CATEGORY_HATE_SPEECH: generative_models.HarmBlockThreshold.BLOCK_MEDIUM_AND_ABOVE,\n",
    "    generative_models.HarmCategory.HARM_CATEGORY_DANGEROUS_CONTENT: generative_models.HarmBlockThreshold.BLOCK_MEDIUM_AND_ABOVE,\n",
    "    generative_models.HarmCategory.HARM_CATEGORY_SEXUALLY_EXPLICIT: generative_models.HarmBlockThreshold.BLOCK_MEDIUM_AND_ABOVE,\n",
    "    generative_models.HarmCategory.HARM_CATEGORY_HARASSMENT: generative_models.HarmBlockThreshold.BLOCK_MEDIUM_AND_ABOVE,\n",
    "}    \n",
    "\n",
    "model_response = gemini_pro_model.generate_content(prompt, safety_settings=safety_settings)\n",
    "print(model_response)\n",
    "    "
   ]
  },
  {
   "cell_type": "markdown",
   "id": "748e4a53-47a2-45b1-b134-587f996bd802",
   "metadata": {
    "tags": []
   },
   "source": [
    "# Multi-modal prompts are supported in Gemini\n",
    "The following makes a few shot prompt using images. The images are retrieved from public urls and passed to the prompt as an Image object."
   ]
  },
  {
   "cell_type": "code",
   "execution_count": 15,
   "id": "df269615-f4ef-416c-aaaf-369e384792b1",
   "metadata": {
    "tags": []
   },
   "outputs": [
    {
     "name": "stdout",
     "output_type": "stream",
     "text": [
      "candidates {\n",
      "  content {\n",
      "    role: \"model\"\n",
      "    parts {\n",
      "      text: \" city: Rio de Janeiro, Landmark: Christ the Redeemer\"\n",
      "    }\n",
      "  }\n",
      "  finish_reason: STOP\n",
      "  safety_ratings {\n",
      "    category: HARM_CATEGORY_HATE_SPEECH\n",
      "    probability: NEGLIGIBLE\n",
      "  }\n",
      "  safety_ratings {\n",
      "    category: HARM_CATEGORY_DANGEROUS_CONTENT\n",
      "    probability: NEGLIGIBLE\n",
      "  }\n",
      "  safety_ratings {\n",
      "    category: HARM_CATEGORY_HARASSMENT\n",
      "    probability: NEGLIGIBLE\n",
      "  }\n",
      "  safety_ratings {\n",
      "    category: HARM_CATEGORY_SEXUALLY_EXPLICIT\n",
      "    probability: NEGLIGIBLE\n",
      "  }\n",
      "}\n",
      "usage_metadata {\n",
      "  prompt_token_count: 791\n",
      "  candidates_token_count: 11\n",
      "  total_token_count: 802\n",
      "}\n",
      "\n"
     ]
    }
   ],
   "source": [
    "def load_image_from_url(image_url: str) -> Image:\n",
    "    with urllib.request.urlopen(image_url) as response:\n",
    "        response = typing.cast(http.client.HTTPResponse, response)\n",
    "        image_bytes = response.read()\n",
    "    return Image.from_bytes(image_bytes)\n",
    "\n",
    "\n",
    "# Load images from Cloud Storage URI\n",
    "landmark1 = load_image_from_url(\n",
    "    \"https://storage.googleapis.com/cloud-samples-data/vertex-ai/llm/prompts/landmark1.png\")\n",
    "landmark2 = load_image_from_url(\n",
    "    \"https://storage.googleapis.com/cloud-samples-data/vertex-ai/llm/prompts/landmark2.png\")\n",
    "landmark3 = load_image_from_url(\n",
    "    \"https://storage.googleapis.com/cloud-samples-data/vertex-ai/llm/prompts/landmark3.png\")\n",
    "\n",
    "# Pass multimodal prompt\n",
    "model_response = gemini_pro_vision_model.generate_content([\n",
    "    landmark1,\n",
    "    \"city: Rome, Landmark: the Colosseum\",\n",
    "    landmark2,\n",
    "    \"city: Beijing, Landmark: Forbidden City\",\n",
    "    landmark3])\n",
    "\n",
    "print(model_response)\n"
   ]
  },
  {
   "cell_type": "markdown",
   "id": "43c764e2-dbfd-4973-9eca-de82b044baee",
   "metadata": {},
   "source": [
    "This example uses the `from_uri` method to reference a GCS path. The method only works with GCS paths."
   ]
  },
  {
   "cell_type": "code",
   "execution_count": 16,
   "id": "4be58bd4-f3c8-4da4-a8b7-df362d690bed",
   "metadata": {
    "tags": []
   },
   "outputs": [
    {
     "name": "stdout",
     "output_type": "stream",
     "text": [
      "candidates {\n",
      "  content {\n",
      "    role: \"model\"\n",
      "    parts {\n",
      "      text: \" This is an image of a flower. The flower has white petals and a yellow center. It is surrounded by brown and yellow leaves.\"\n",
      "    }\n",
      "  }\n",
      "  finish_reason: STOP\n",
      "  safety_ratings {\n",
      "    category: HARM_CATEGORY_HATE_SPEECH\n",
      "    probability: NEGLIGIBLE\n",
      "  }\n",
      "  safety_ratings {\n",
      "    category: HARM_CATEGORY_DANGEROUS_CONTENT\n",
      "    probability: NEGLIGIBLE\n",
      "  }\n",
      "  safety_ratings {\n",
      "    category: HARM_CATEGORY_HARASSMENT\n",
      "    probability: NEGLIGIBLE\n",
      "  }\n",
      "  safety_ratings {\n",
      "    category: HARM_CATEGORY_SEXUALLY_EXPLICIT\n",
      "    probability: NEGLIGIBLE\n",
      "  }\n",
      "}\n",
      "usage_metadata {\n",
      "  prompt_token_count: 263\n",
      "  candidates_token_count: 27\n",
      "  total_token_count: 290\n",
      "}\n",
      "\n"
     ]
    }
   ],
   "source": [
    "image = Part.from_uri(\"gs://cloud-samples-data/ai-platform/flowers/daisy/10559679065_50d2b16f6d.jpg\", mime_type=\"image/jpeg\")\n",
    "# https://storage.googleapis.com/cloud-samples-data/ai-platform/flowers/daisy/10559679065_50d2b16f6d.jpg\n",
    "model_response = gemini_pro_vision_model.generate_content([\"what is this image?\", image])\n",
    "\n",
    "print(model_response)\n"
   ]
  },
  {
   "cell_type": "markdown",
   "id": "5c9a6f95-ca39-4cfc-a9b8-1196ae1d1c4a",
   "metadata": {},
   "source": [
    "# Videos can also be used in prompts with Gemini"
   ]
  },
  {
   "cell_type": "code",
   "execution_count": 17,
   "id": "390ef512-d2c8-4fa0-98b1-64737ecf79ed",
   "metadata": {
    "tags": []
   },
   "outputs": [
    {
     "name": "stdout",
     "output_type": "stream",
     "text": [
      " The phone featured in the video is the Google Pixel.\n",
      " The video shows a sloth, a fox, a rabbit, a tiger, an elephant, a seal, an otter, and a beaver.\n"
     ]
    }
   ],
   "source": [
    "video = Part.from_uri(\"gs://cloud-samples-data/video/animals.mp4\", mime_type=\"video/mp4\")\n",
    "# https://storage.googleapis.com/cloud-samples-data/video/animals.mp4\n",
    "\n",
    "model_response = gemini_pro_vision_model.generate_content([\"What phone is featured in the video?\", video])\n",
    "print(model_response.text)\n",
    "\n",
    "model_response = gemini_pro_vision_model.generate_content([\"What animals are shown in the video?\", video])\n",
    "print(model_response.text)\n"
   ]
  },
  {
   "cell_type": "markdown",
   "id": "cef2d477-4e81-452f-b06f-ff72d003ee01",
   "metadata": {},
   "source": [
    "# Function calling is a feature only available on Gemini \n",
    "It returns a structured data object with a function name and parameters from the prompt that allows a developer to construct an API call"
   ]
  },
  {
   "cell_type": "code",
   "execution_count": 18,
   "id": "e484aaeb-95ea-42da-91ee-6e248a721bb8",
   "metadata": {
    "tags": []
   },
   "outputs": [],
   "source": [
    "get_current_weather_func = FunctionDeclaration(\n",
    "    name=\"get_current_weather\",\n",
    "    description=\"Get the current weather in a given city\",\n",
    "    parameters={\n",
    "        \"type\": \"object\",\n",
    "        \"properties\": {\"location\": {\"type\": \"string\", \"description\": \"City\"}},\n",
    "    },\n",
    ")\n",
    "\n",
    "get_restaurants_func = FunctionDeclaration(\n",
    "    name=\"get_restaurants\",\n",
    "    description=\"Get the restaurants in a given neighborhood in a given city\",\n",
    "    parameters={\n",
    "        \"type\": \"object\",\n",
    "        \"properties\": {\n",
    "            \"neighborhood\": {\"type\": \"string\", \"description\": \"Neighborhood\"},\n",
    "            \"city\": {\"type\": \"string\", \"description\": \"City\"}\n",
    "        },\n",
    "    }\n",
    ")\n",
    "\n",
    "city_tool = Tool(\n",
    "    function_declarations=[get_current_weather_func, get_restaurants_func]\n",
    ")\n"
   ]
  },
  {
   "cell_type": "code",
   "execution_count": 19,
   "id": "d329edda-9a2f-46a2-b97b-47be1c4ca63a",
   "metadata": {
    "tags": []
   },
   "outputs": [
    {
     "name": "stdout",
     "output_type": "stream",
     "text": [
      "candidates {\n",
      "  content {\n",
      "    role: \"model\"\n",
      "    parts {\n",
      "      function_call {\n",
      "        name: \"get_current_weather\"\n",
      "        args {\n",
      "          fields {\n",
      "            key: \"location\"\n",
      "            value {\n",
      "              string_value: \"Boston\"\n",
      "            }\n",
      "          }\n",
      "        }\n",
      "      }\n",
      "    }\n",
      "  }\n",
      "  finish_reason: STOP\n",
      "  safety_ratings {\n",
      "    category: HARM_CATEGORY_HATE_SPEECH\n",
      "    probability: NEGLIGIBLE\n",
      "  }\n",
      "  safety_ratings {\n",
      "    category: HARM_CATEGORY_DANGEROUS_CONTENT\n",
      "    probability: NEGLIGIBLE\n",
      "  }\n",
      "  safety_ratings {\n",
      "    category: HARM_CATEGORY_HARASSMENT\n",
      "    probability: NEGLIGIBLE\n",
      "  }\n",
      "  safety_ratings {\n",
      "    category: HARM_CATEGORY_SEXUALLY_EXPLICIT\n",
      "    probability: NEGLIGIBLE\n",
      "  }\n",
      "}\n",
      "usage_metadata {\n",
      "  prompt_token_count: 41\n",
      "  candidates_token_count: 7\n",
      "  total_token_count: 48\n",
      "}\n",
      "\n"
     ]
    }
   ],
   "source": [
    "model_response = gemini_pro_model.generate_content(\n",
    "    \"What is the weather like in Boston?\", \n",
    "    generation_config={\"temperature\": 0}, \n",
    "    tools=[city_tool])\n",
    "\n",
    "print(model_response)\n"
   ]
  },
  {
   "cell_type": "code",
   "execution_count": 20,
   "id": "16d6e75c-7657-41d7-b1f3-f7a4f1782991",
   "metadata": {
    "tags": []
   },
   "outputs": [
    {
     "name": "stdout",
     "output_type": "stream",
     "text": [
      "name: \"get_restaurants\"\n",
      "args {\n",
      "  fields {\n",
      "    key: \"city\"\n",
      "    value {\n",
      "      string_value: \"Philadelphia\"\n",
      "    }\n",
      "  }\n",
      "  fields {\n",
      "    key: \"neighborhood\"\n",
      "    value {\n",
      "      string_value: \"Old City\"\n",
      "    }\n",
      "  }\n",
      "}\n",
      "\n"
     ]
    }
   ],
   "source": [
    "model_response = gemini_pro_model.generate_content(\n",
    "    \"Where are some good restaurants in Old City Philadelphia?\",\n",
    "    generation_config={\"temperature\": 0},\n",
    "    tools=[city_tool])\n",
    "function_call = model_response.candidates[0].content.parts[0].function_call\n",
    "\n",
    "print(function_call)\n"
   ]
  },
  {
   "cell_type": "code",
   "execution_count": 21,
   "id": "48959075-8777-453f-a41f-da8401596e7f",
   "metadata": {
    "tags": []
   },
   "outputs": [
    {
     "name": "stdout",
     "output_type": "stream",
     "text": [
      "{'neighborhood': 'Old City', 'city': 'Philadelphia'}\n"
     ]
    }
   ],
   "source": [
    "# example of how you might handle the response\n",
    "if (function_call.name == \"get_restaurants\"):\n",
    "    params = {}\n",
    "    for key, value in function_call.args.items():\n",
    "        params[key] = value\n",
    "    print(params)\n",
    "    \n",
    "    # response = requests.post(get_restaurants_url, data: params)\n",
    "\n"
   ]
  },
  {
   "cell_type": "code",
   "execution_count": 22,
   "id": "bd2fdeba-dd75-400c-8d9a-4da3b4212b56",
   "metadata": {
    "tags": []
   },
   "outputs": [
    {
     "name": "stdout",
     "output_type": "stream",
     "text": [
      "candidates {\n",
      "  content {\n",
      "    role: \"model\"\n",
      "    parts {\n",
      "      text: \"I cannot fulfill this request. I do not have the functionality to answer questions about the sky.\"\n",
      "    }\n",
      "  }\n",
      "  finish_reason: STOP\n",
      "  safety_ratings {\n",
      "    category: HARM_CATEGORY_HATE_SPEECH\n",
      "    probability: NEGLIGIBLE\n",
      "  }\n",
      "  safety_ratings {\n",
      "    category: HARM_CATEGORY_DANGEROUS_CONTENT\n",
      "    probability: NEGLIGIBLE\n",
      "  }\n",
      "  safety_ratings {\n",
      "    category: HARM_CATEGORY_HARASSMENT\n",
      "    probability: NEGLIGIBLE\n",
      "  }\n",
      "  safety_ratings {\n",
      "    category: HARM_CATEGORY_SEXUALLY_EXPLICIT\n",
      "    probability: NEGLIGIBLE\n",
      "  }\n",
      "}\n",
      "usage_metadata {\n",
      "  prompt_token_count: 39\n",
      "  candidates_token_count: 19\n",
      "  total_token_count: 58\n",
      "}\n",
      "\n"
     ]
    }
   ],
   "source": [
    "# will not handle anything outside the scope of the functions\n",
    "model_response = gemini_pro_model.generate_content(\n",
    "    \"Why is the sky blue?\",\n",
    "    generation_config={\"temperature\": 0},\n",
    "    tools=[city_tool])\n",
    "\n",
    "print(model_response)\n"
   ]
  },
  {
   "cell_type": "code",
   "execution_count": null,
   "id": "f106e8b4-e6bc-41f6-92cc-d11c8b60439e",
   "metadata": {
    "tags": []
   },
   "outputs": [],
   "source": []
  }
 ],
 "metadata": {
  "environment": {
   "kernel": "conda-root-py",
   "name": "workbench-notebooks.m115",
   "type": "gcloud",
   "uri": "gcr.io/deeplearning-platform-release/workbench-notebooks:m115"
  },
  "kernelspec": {
   "display_name": "Python 3 (ipykernel)",
   "language": "python",
   "name": "conda-root-py"
  },
  "language_info": {
   "codemirror_mode": {
    "name": "ipython",
    "version": 3
   },
   "file_extension": ".py",
   "mimetype": "text/x-python",
   "name": "python",
   "nbconvert_exporter": "python",
   "pygments_lexer": "ipython3",
   "version": "3.10.13"
  }
 },
 "nbformat": 4,
 "nbformat_minor": 5
}
